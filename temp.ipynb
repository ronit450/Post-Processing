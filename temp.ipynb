{
 "cells": [
  {
   "cell_type": "code",
   "execution_count": 2,
   "metadata": {},
   "outputs": [],
   "source": [
    "import json\n",
    "import geojson\n",
    "from PIL import Image\n",
    "import piexif\n",
    "import numpy as np\n",
    "from collections import defaultdict\n",
    "import shapefile\n",
    "from shapely.geometry import Point, LineString\n",
    "from rtree import index\n",
    "import cv2\n"
   ]
  },
  {
   "cell_type": "code",
   "execution_count": 2,
   "metadata": {},
   "outputs": [],
   "source": [
    "corners = [[-83.08489893270443, 30.123174014690044], [-83.08453339472855, 30.12318037458068], [-83.08452791372119, 30.122942291025208], [-83.08489345082155, 30.122935931191176]]"
   ]
  },
  {
   "cell_type": "code",
   "execution_count": 12,
   "metadata": {},
   "outputs": [],
   "source": [
    "image_path = r\"C:\\Users\\User\\Downloads\\copy_DJI_20240228083728_0005_D_aligned_xmp.tif\"\n",
    "output_path = r\"C:\\Users\\User\\Downloads\\Aiman-file-results\\temp\"\n",
    "image = cv2.imread(image_path)\n",
    "image_height, image_width, _ = image.shape\n",
    "top_left = (corners[1][1], corners[1][0])\n",
    "bottom_right = (corners[3][1], corners[3][0])"
   ]
  },
  {
   "cell_type": "code",
   "execution_count": 10,
   "metadata": {},
   "outputs": [],
   "source": [
    "\n",
    "def interpolate_to_gps(x, y):\n",
    "    lon = top_left[1] + (x / image_width) * (bottom_right[1] - top_left[1])\n",
    "    lat = top_left[0] + (y / image_height) * (bottom_right[0] - top_left[0])\n",
    "    return lat, lon"
   ]
  },
  {
   "cell_type": "code",
   "execution_count": 15,
   "metadata": {},
   "outputs": [],
   "source": [
    "x1, y1 = interpolate_to_gps(corners[0][0], corners[0][1])\n",
    "x2, y2 = interpolate_to_gps(corners[1][0], corners[1][1])\n",
    "x3, y3 = interpolate_to_gps(corners[2][0], corners[2][1])\n",
    "x4, y4 = interpolate_to_gps(corners[3][0], corners[3][1])"
   ]
  },
  {
   "cell_type": "code",
   "execution_count": 17,
   "metadata": {},
   "outputs": [
    {
     "name": "stdout",
     "output_type": "stream",
     "text": [
      "Top-left corner: (0.0, 0.0)\n",
      "Top-right corner: (5280.0, 0.0)\n",
      "Bottom-left corner: (0.0, 3956.0)\n",
      "Bottom-right corner: (5280.0, 3956.0)\n"
     ]
    }
   ],
   "source": [
    "import json\n",
    "\n",
    "# Load your JSON file\n",
    "json_path = r\"C:\\Users\\User\\Downloads\\Aiman-file\\DJI_20240228084011_0085_D.json\"\n",
    "with open(json_path, 'r') as file:\n",
    "    data = json.load(file)\n",
    "\n",
    "# Initialize variables to find the extents\n",
    "min_x = float('inf')\n",
    "min_y = float('inf')\n",
    "max_x = float('-inf')\n",
    "max_y = float('-inf')\n",
    "\n",
    "# Iterate through the detections to find the minimum and maximum coordinates\n",
    "for detection in data['detections']:\n",
    "    box = detection['box']\n",
    "    x1, y1 = box['x1'], box['y1']\n",
    "    x2, y2 = box['x2'], box['y2']\n",
    "\n",
    "    min_x = min(min_x, x1, x2)\n",
    "    min_y = min(min_y, y1, y2)\n",
    "    max_x = max(max_x, x1, x2)\n",
    "    max_y = max(max_y, y1, y2)\n",
    "\n",
    "# Print the extents\n",
    "print(f\"Top-left corner: ({min_x}, {min_y})\")\n",
    "print(f\"Top-right corner: ({max_x}, {min_y})\")\n",
    "print(f\"Bottom-left corner: ({min_x}, {max_y})\")\n",
    "print(f\"Bottom-right corner: ({max_x}, {max_y})\")\n"
   ]
  },
  {
   "cell_type": "code",
   "execution_count": 3,
   "metadata": {},
   "outputs": [
    {
     "name": "stdout",
     "output_type": "stream",
     "text": [
      "0.017397177146435655\n"
     ]
    }
   ],
   "source": [
    "def get_angle(corners):\n",
    "    \"\"\"\n",
    "    Calculate the correct rotation angle from corners\n",
    "    \"\"\"\n",
    "    # Get the main edges\n",
    "    edge1 = [corners[1][0] - corners[0][0], corners[1][1] - corners[0][1]]\n",
    "    edge2 = [corners[3][0] - corners[0][0], corners[3][1] - corners[0][1]]\n",
    "    \n",
    "    # Calculate lengths\n",
    "    len1 = np.sqrt(edge1[0]**2 + edge1[1]**2)\n",
    "    len2 = np.sqrt(edge2[0]**2 + edge2[1]**2)\n",
    "    \n",
    "    # Use the longer edge for angle calculation\n",
    "    if len1 > len2:\n",
    "        dx, dy = edge1\n",
    "    else:\n",
    "        dx, dy = edge2\n",
    "    \n",
    "    angle = np.arctan2(dy, dx)\n",
    "    return angle\n",
    "\n",
    "corners = [[-83.08490226226006, 30.123817184960654], [-83.08453685334257, 30.12382354268575], [-83.08453137416528, 30.12358554475479], [-83.08489678220786, 30.123579187086264]]\n",
    "\n",
    "print(get_angle(corners))"
   ]
  },
  {
   "cell_type": "code",
   "execution_count": 20,
   "metadata": {},
   "outputs": [],
   "source": [
    "import pandas as pd"
   ]
  },
  {
   "cell_type": "code",
   "execution_count": 3,
   "metadata": {},
   "outputs": [],
   "source": [
    "df = pd.read_csv(r\"C:\\Users\\User\\Downloads\\1880_image_details.csv\")"
   ]
  },
  {
   "cell_type": "code",
   "execution_count": 5,
   "metadata": {},
   "outputs": [
    {
     "data": {
      "application/vnd.microsoft.datawrangler.viewer.v0+json": {
       "columns": [
        {
         "name": "index",
         "rawType": "int64",
         "type": "integer"
        },
        {
         "name": "image_name",
         "rawType": "object",
         "type": "string"
        },
        {
         "name": "corners",
         "rawType": "object",
         "type": "string"
        },
        {
         "name": "gsd",
         "rawType": "float64",
         "type": "float"
        },
        {
         "name": "image_width",
         "rawType": "int64",
         "type": "integer"
        },
        {
         "name": "image_height",
         "rawType": "int64",
         "type": "integer"
        }
       ],
       "conversionMethod": "pd.DataFrame",
       "ref": "90fb5b4d-1059-4712-bb78-a8628066902b",
       "rows": [
        [
         "0",
         "DJI_20250307112525_0066_D_CAMERA12_LA.JPG",
         "[[-83.16446549315401, 30.250503519065333], [-83.16442427341097, 30.250504450404012], [-83.1644234688514, 30.250477610930986], [-83.16446468858327, 30.250476679593106]]",
         "0.000447746",
         "8064",
         "6048"
        ],
        [
         "1",
         "DJI_20250307112619_0067_D_CAMERA12_LA.JPG",
         "[[-83.1644820952984, 30.251570276647477], [-83.16444363936114, 30.25158189694567], [-83.16443360070463, 30.251556857347847], [-83.16447205663368, 30.251545237052976]]",
         "0.000486034",
         "8064",
         "6048"
        ],
        [
         "2",
         "DJI_20250307112653_0068_D_CAMERA12_LA.JPG",
         "[[-83.16314248685867, 30.25303646118143], [-83.16316351381903, 30.253066733861406], [-83.16313736114051, 30.253080424818506], [-83.16311633418474, 30.253050152134122]]",
         "0.000473341",
         "8064",
         "6048"
        ],
        [
         "3",
         "DJI_20250307112712_0069_D_CAMERA12_LA.JPG",
         "[[-83.16343240357156, 30.252448038825353], [-83.16347217131943, 30.252455635657398], [-83.16346560843411, 30.25248152917225], [-83.16342584067606, 30.252473932338713]]",
         "0.000493133",
         "8064",
         "6048"
        ],
        [
         "4",
         "DJI_20250307112730_0070_D_CAMERA12_LA.JPG",
         "[[-83.1634283441402, 30.251552465436436], [-83.16346905991631, 30.251552039522302], [-83.16346942786512, 30.251578550560033], [-83.16342871207807, 30.25157897647483]]",
         "0.000482806",
         "8064",
         "6048"
        ]
       ],
       "shape": {
        "columns": 5,
        "rows": 5
       }
      },
      "text/html": [
       "<div>\n",
       "<style scoped>\n",
       "    .dataframe tbody tr th:only-of-type {\n",
       "        vertical-align: middle;\n",
       "    }\n",
       "\n",
       "    .dataframe tbody tr th {\n",
       "        vertical-align: top;\n",
       "    }\n",
       "\n",
       "    .dataframe thead th {\n",
       "        text-align: right;\n",
       "    }\n",
       "</style>\n",
       "<table border=\"1\" class=\"dataframe\">\n",
       "  <thead>\n",
       "    <tr style=\"text-align: right;\">\n",
       "      <th></th>\n",
       "      <th>image_name</th>\n",
       "      <th>corners</th>\n",
       "      <th>gsd</th>\n",
       "      <th>image_width</th>\n",
       "      <th>image_height</th>\n",
       "    </tr>\n",
       "  </thead>\n",
       "  <tbody>\n",
       "    <tr>\n",
       "      <th>0</th>\n",
       "      <td>DJI_20250307112525_0066_D_CAMERA12_LA.JPG</td>\n",
       "      <td>[[-83.16446549315401, 30.250503519065333], [-8...</td>\n",
       "      <td>0.000448</td>\n",
       "      <td>8064</td>\n",
       "      <td>6048</td>\n",
       "    </tr>\n",
       "    <tr>\n",
       "      <th>1</th>\n",
       "      <td>DJI_20250307112619_0067_D_CAMERA12_LA.JPG</td>\n",
       "      <td>[[-83.1644820952984, 30.251570276647477], [-83...</td>\n",
       "      <td>0.000486</td>\n",
       "      <td>8064</td>\n",
       "      <td>6048</td>\n",
       "    </tr>\n",
       "    <tr>\n",
       "      <th>2</th>\n",
       "      <td>DJI_20250307112653_0068_D_CAMERA12_LA.JPG</td>\n",
       "      <td>[[-83.16314248685867, 30.25303646118143], [-83...</td>\n",
       "      <td>0.000473</td>\n",
       "      <td>8064</td>\n",
       "      <td>6048</td>\n",
       "    </tr>\n",
       "    <tr>\n",
       "      <th>3</th>\n",
       "      <td>DJI_20250307112712_0069_D_CAMERA12_LA.JPG</td>\n",
       "      <td>[[-83.16343240357156, 30.252448038825353], [-8...</td>\n",
       "      <td>0.000493</td>\n",
       "      <td>8064</td>\n",
       "      <td>6048</td>\n",
       "    </tr>\n",
       "    <tr>\n",
       "      <th>4</th>\n",
       "      <td>DJI_20250307112730_0070_D_CAMERA12_LA.JPG</td>\n",
       "      <td>[[-83.1634283441402, 30.251552465436436], [-83...</td>\n",
       "      <td>0.000483</td>\n",
       "      <td>8064</td>\n",
       "      <td>6048</td>\n",
       "    </tr>\n",
       "  </tbody>\n",
       "</table>\n",
       "</div>"
      ],
      "text/plain": [
       "                                  image_name  \\\n",
       "0  DJI_20250307112525_0066_D_CAMERA12_LA.JPG   \n",
       "1  DJI_20250307112619_0067_D_CAMERA12_LA.JPG   \n",
       "2  DJI_20250307112653_0068_D_CAMERA12_LA.JPG   \n",
       "3  DJI_20250307112712_0069_D_CAMERA12_LA.JPG   \n",
       "4  DJI_20250307112730_0070_D_CAMERA12_LA.JPG   \n",
       "\n",
       "                                             corners       gsd  image_width  \\\n",
       "0  [[-83.16446549315401, 30.250503519065333], [-8...  0.000448         8064   \n",
       "1  [[-83.1644820952984, 30.251570276647477], [-83...  0.000486         8064   \n",
       "2  [[-83.16314248685867, 30.25303646118143], [-83...  0.000473         8064   \n",
       "3  [[-83.16343240357156, 30.252448038825353], [-8...  0.000493         8064   \n",
       "4  [[-83.1634283441402, 30.251552465436436], [-83...  0.000483         8064   \n",
       "\n",
       "   image_height  \n",
       "0          6048  \n",
       "1          6048  \n",
       "2          6048  \n",
       "3          6048  \n",
       "4          6048  "
      ]
     },
     "execution_count": 5,
     "metadata": {},
     "output_type": "execute_result"
    }
   ],
   "source": [
    "df.head()"
   ]
  },
  {
   "cell_type": "code",
   "execution_count": 6,
   "metadata": {},
   "outputs": [],
   "source": [
    "df2 = pd.read_csv(r\"C:\\Users\\User\\Downloads\\1880_image_coordinates_new.csv\", )"
   ]
  },
  {
   "cell_type": "code",
   "execution_count": 16,
   "metadata": {},
   "outputs": [],
   "source": [
    "# a  = df2['elevation'] - df2['elevation'].iloc[0]\n",
    "# b = df2['updated_elevations'] = df2['relative_altitude'] - df2['updated_elevations']\n",
    "c = df2['gsd'] = (df2['sensor_width'] * df2['updated_elevations']) / (df2['focal_length'] * df2['width'])"
   ]
  },
  {
   "cell_type": "code",
   "execution_count": 18,
   "metadata": {},
   "outputs": [],
   "source": [
    "df['gsd']  = c"
   ]
  },
  {
   "cell_type": "code",
   "execution_count": 19,
   "metadata": {},
   "outputs": [
    {
     "data": {
      "application/vnd.microsoft.datawrangler.viewer.v0+json": {
       "columns": [
        {
         "name": "index",
         "rawType": "int64",
         "type": "integer"
        },
        {
         "name": "image_name",
         "rawType": "object",
         "type": "string"
        },
        {
         "name": "corners",
         "rawType": "object",
         "type": "string"
        },
        {
         "name": "gsd",
         "rawType": "float64",
         "type": "float"
        },
        {
         "name": "image_width",
         "rawType": "int64",
         "type": "integer"
        },
        {
         "name": "image_height",
         "rawType": "int64",
         "type": "integer"
        }
       ],
       "conversionMethod": "pd.DataFrame",
       "ref": "dce308b3-c100-46ef-9c5e-b51dd9fb390c",
       "rows": [
        [
         "0",
         "DJI_20250307112525_0066_D_CAMERA12_LA.JPG",
         "[[-83.16446549315401, 30.250503519065333], [-83.16442427341097, 30.250504450404012], [-83.1644234688514, 30.250477610930986], [-83.16446468858327, 30.250476679593106]]",
         "0.0004860342069644395",
         "8064",
         "6048"
        ],
        [
         "1",
         "DJI_20250307112619_0067_D_CAMERA12_LA.JPG",
         "[[-83.1644820952984, 30.251570276647477], [-83.16444363936114, 30.25158189694567], [-83.16443360070463, 30.251556857347847], [-83.16447205663368, 30.251545237052976]]",
         "0.00047334071613141366",
         "8064",
         "6048"
        ],
        [
         "2",
         "DJI_20250307112653_0068_D_CAMERA12_LA.JPG",
         "[[-83.16314248685867, 30.25303646118143], [-83.16316351381903, 30.253066733861406], [-83.16313736114051, 30.253080424818506], [-83.16311633418474, 30.253050152134122]]",
         "0.0004931327673188138",
         "8064",
         "6048"
        ],
        [
         "3",
         "DJI_20250307112712_0069_D_CAMERA12_LA.JPG",
         "[[-83.16343240357156, 30.252448038825353], [-83.16347217131943, 30.252455635657398], [-83.16346560843411, 30.25248152917225], [-83.16342584067606, 30.252473932338713]]",
         "0.00048280607850375294",
         "8064",
         "6048"
        ],
        [
         "4",
         "DJI_20250307112730_0070_D_CAMERA12_LA.JPG",
         "[[-83.1634283441402, 30.251552465436436], [-83.16346905991631, 30.251552039522302], [-83.16346942786512, 30.251578550560033], [-83.16342871207807, 30.25157897647483]]",
         "0.0004477457856527623",
         "8064",
         "6048"
        ]
       ],
       "shape": {
        "columns": 5,
        "rows": 5
       }
      },
      "text/html": [
       "<div>\n",
       "<style scoped>\n",
       "    .dataframe tbody tr th:only-of-type {\n",
       "        vertical-align: middle;\n",
       "    }\n",
       "\n",
       "    .dataframe tbody tr th {\n",
       "        vertical-align: top;\n",
       "    }\n",
       "\n",
       "    .dataframe thead th {\n",
       "        text-align: right;\n",
       "    }\n",
       "</style>\n",
       "<table border=\"1\" class=\"dataframe\">\n",
       "  <thead>\n",
       "    <tr style=\"text-align: right;\">\n",
       "      <th></th>\n",
       "      <th>image_name</th>\n",
       "      <th>corners</th>\n",
       "      <th>gsd</th>\n",
       "      <th>image_width</th>\n",
       "      <th>image_height</th>\n",
       "    </tr>\n",
       "  </thead>\n",
       "  <tbody>\n",
       "    <tr>\n",
       "      <th>0</th>\n",
       "      <td>DJI_20250307112525_0066_D_CAMERA12_LA.JPG</td>\n",
       "      <td>[[-83.16446549315401, 30.250503519065333], [-8...</td>\n",
       "      <td>0.000486</td>\n",
       "      <td>8064</td>\n",
       "      <td>6048</td>\n",
       "    </tr>\n",
       "    <tr>\n",
       "      <th>1</th>\n",
       "      <td>DJI_20250307112619_0067_D_CAMERA12_LA.JPG</td>\n",
       "      <td>[[-83.1644820952984, 30.251570276647477], [-83...</td>\n",
       "      <td>0.000473</td>\n",
       "      <td>8064</td>\n",
       "      <td>6048</td>\n",
       "    </tr>\n",
       "    <tr>\n",
       "      <th>2</th>\n",
       "      <td>DJI_20250307112653_0068_D_CAMERA12_LA.JPG</td>\n",
       "      <td>[[-83.16314248685867, 30.25303646118143], [-83...</td>\n",
       "      <td>0.000493</td>\n",
       "      <td>8064</td>\n",
       "      <td>6048</td>\n",
       "    </tr>\n",
       "    <tr>\n",
       "      <th>3</th>\n",
       "      <td>DJI_20250307112712_0069_D_CAMERA12_LA.JPG</td>\n",
       "      <td>[[-83.16343240357156, 30.252448038825353], [-8...</td>\n",
       "      <td>0.000483</td>\n",
       "      <td>8064</td>\n",
       "      <td>6048</td>\n",
       "    </tr>\n",
       "    <tr>\n",
       "      <th>4</th>\n",
       "      <td>DJI_20250307112730_0070_D_CAMERA12_LA.JPG</td>\n",
       "      <td>[[-83.1634283441402, 30.251552465436436], [-83...</td>\n",
       "      <td>0.000448</td>\n",
       "      <td>8064</td>\n",
       "      <td>6048</td>\n",
       "    </tr>\n",
       "  </tbody>\n",
       "</table>\n",
       "</div>"
      ],
      "text/plain": [
       "                                  image_name  \\\n",
       "0  DJI_20250307112525_0066_D_CAMERA12_LA.JPG   \n",
       "1  DJI_20250307112619_0067_D_CAMERA12_LA.JPG   \n",
       "2  DJI_20250307112653_0068_D_CAMERA12_LA.JPG   \n",
       "3  DJI_20250307112712_0069_D_CAMERA12_LA.JPG   \n",
       "4  DJI_20250307112730_0070_D_CAMERA12_LA.JPG   \n",
       "\n",
       "                                             corners       gsd  image_width  \\\n",
       "0  [[-83.16446549315401, 30.250503519065333], [-8...  0.000486         8064   \n",
       "1  [[-83.1644820952984, 30.251570276647477], [-83...  0.000473         8064   \n",
       "2  [[-83.16314248685867, 30.25303646118143], [-83...  0.000493         8064   \n",
       "3  [[-83.16343240357156, 30.252448038825353], [-8...  0.000483         8064   \n",
       "4  [[-83.1634283441402, 30.251552465436436], [-83...  0.000448         8064   \n",
       "\n",
       "   image_height  \n",
       "0          6048  \n",
       "1          6048  \n",
       "2          6048  \n",
       "3          6048  \n",
       "4          6048  "
      ]
     },
     "execution_count": 19,
     "metadata": {},
     "output_type": "execute_result"
    }
   ],
   "source": [
    "df.head()"
   ]
  },
  {
   "cell_type": "code",
   "execution_count": 52,
   "metadata": {},
   "outputs": [],
   "source": [
    "def gsd_correcter(cord_csv, image_csv, new_detail_csv):\n",
    "    \n",
    "    image_csv = pd.read_csv(image_csv)\n",
    "    cord_csv = pd.read_csv(cord_csv)\n",
    "    cord_csv.columns = cord_csv.columns.str.strip()\n",
    "    image_csv.columns = image_csv.columns.str.strip()\n",
    "    print(image_csv.columns)\n",
    "    print(cord_csv.columns)\n",
    "\n",
    "    # Rename column to match for merging\n",
    "    cord_csv.rename(columns={'image': 'image_name'}, inplace=True)\n",
    "\n",
    "    # Merge and update GSD values\n",
    "    image_details_updated = image_csv.drop(columns=['gsd']).merge(\n",
    "        cord_csv[['image_name', 'gsd']], on='image_name', how='left'\n",
    "    )\n",
    "    image_details_updated.to_csv(new_detail_csv, index=False)"
   ]
  },
  {
   "cell_type": "code",
   "execution_count": null,
   "metadata": {},
   "outputs": [],
   "source": []
  },
  {
   "cell_type": "code",
   "execution_count": 53,
   "metadata": {},
   "outputs": [
    {
     "name": "stdout",
     "output_type": "stream",
     "text": [
      "Index(['image_name', 'corners', 'gsd', 'image_width', 'image_height'], dtype='object')\n",
      "Index(['image', 'lat', 'lon', 'relative_altitude', 'camera_model', 'width',\n",
      "       'height', 'sensor_width', 'focal_length', 'elevation', 'offset',\n",
      "       'updated_elevations', 'gsd'],\n",
      "      dtype='object')\n"
     ]
    }
   ],
   "source": [
    "gsd_correcter(r\"C:\\Users\\User\\Downloads\\forest-rk\\1906_image_coordinates_new.csv\", \n",
    "              r\"C:\\Users\\User\\Downloads\\forest-rk\\1906_image_details.csv\", \n",
    "              r\"C:\\Users\\User\\Downloads\\forest-rk\\1906_image_details_new.csv\"\n",
    "              )"
   ]
  },
  {
   "cell_type": "code",
   "execution_count": null,
   "metadata": {},
   "outputs": [],
   "source": []
  }
 ],
 "metadata": {
  "kernelspec": {
   "display_name": "Python 3",
   "language": "python",
   "name": "python3"
  },
  "language_info": {
   "codemirror_mode": {
    "name": "ipython",
    "version": 3
   },
   "file_extension": ".py",
   "mimetype": "text/x-python",
   "name": "python",
   "nbconvert_exporter": "python",
   "pygments_lexer": "ipython3",
   "version": "3.10.11"
  }
 },
 "nbformat": 4,
 "nbformat_minor": 2
}
