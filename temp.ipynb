{
 "cells": [
  {
   "cell_type": "code",
   "execution_count": 2,
   "metadata": {},
   "outputs": [],
   "source": [
    "import json\n",
    "import geojson\n",
    "from PIL import Image\n",
    "import piexif\n",
    "import numpy as np\n",
    "from collections import defaultdict\n",
    "import shapefile\n",
    "from shapely.geometry import Point, LineString\n",
    "from rtree import index\n",
    "import cv2\n"
   ]
  },
  {
   "cell_type": "code",
   "execution_count": 2,
   "metadata": {},
   "outputs": [],
   "source": [
    "corners = [[-83.08489893270443, 30.123174014690044], [-83.08453339472855, 30.12318037458068], [-83.08452791372119, 30.122942291025208], [-83.08489345082155, 30.122935931191176]]"
   ]
  },
  {
   "cell_type": "code",
   "execution_count": 12,
   "metadata": {},
   "outputs": [],
   "source": [
    "image_path = r\"C:\\Users\\User\\Downloads\\copy_DJI_20240228083728_0005_D_aligned_xmp.tif\"\n",
    "output_path = r\"C:\\Users\\User\\Downloads\\Aiman-file-results\\temp\"\n",
    "image = cv2.imread(image_path)\n",
    "image_height, image_width, _ = image.shape\n",
    "top_left = (corners[1][1], corners[1][0])\n",
    "bottom_right = (corners[3][1], corners[3][0])"
   ]
  },
  {
   "cell_type": "code",
   "execution_count": 10,
   "metadata": {},
   "outputs": [],
   "source": [
    "\n",
    "def interpolate_to_gps(x, y):\n",
    "    lon = top_left[1] + (x / image_width) * (bottom_right[1] - top_left[1])\n",
    "    lat = top_left[0] + (y / image_height) * (bottom_right[0] - top_left[0])\n",
    "    return lat, lon"
   ]
  },
  {
   "cell_type": "code",
   "execution_count": 15,
   "metadata": {},
   "outputs": [],
   "source": [
    "x1, y1 = interpolate_to_gps(corners[0][0], corners[0][1])\n",
    "x2, y2 = interpolate_to_gps(corners[1][0], corners[1][1])\n",
    "x3, y3 = interpolate_to_gps(corners[2][0], corners[2][1])\n",
    "x4, y4 = interpolate_to_gps(corners[3][0], corners[3][1])"
   ]
  },
  {
   "cell_type": "code",
   "execution_count": 17,
   "metadata": {},
   "outputs": [
    {
     "name": "stdout",
     "output_type": "stream",
     "text": [
      "Top-left corner: (0.0, 0.0)\n",
      "Top-right corner: (5280.0, 0.0)\n",
      "Bottom-left corner: (0.0, 3956.0)\n",
      "Bottom-right corner: (5280.0, 3956.0)\n"
     ]
    }
   ],
   "source": [
    "import json\n",
    "\n",
    "# Load your JSON file\n",
    "json_path = r\"C:\\Users\\User\\Downloads\\Aiman-file\\DJI_20240228084011_0085_D.json\"\n",
    "with open(json_path, 'r') as file:\n",
    "    data = json.load(file)\n",
    "\n",
    "# Initialize variables to find the extents\n",
    "min_x = float('inf')\n",
    "min_y = float('inf')\n",
    "max_x = float('-inf')\n",
    "max_y = float('-inf')\n",
    "\n",
    "# Iterate through the detections to find the minimum and maximum coordinates\n",
    "for detection in data['detections']:\n",
    "    box = detection['box']\n",
    "    x1, y1 = box['x1'], box['y1']\n",
    "    x2, y2 = box['x2'], box['y2']\n",
    "\n",
    "    min_x = min(min_x, x1, x2)\n",
    "    min_y = min(min_y, y1, y2)\n",
    "    max_x = max(max_x, x1, x2)\n",
    "    max_y = max(max_y, y1, y2)\n",
    "\n",
    "# Print the extents\n",
    "print(f\"Top-left corner: ({min_x}, {min_y})\")\n",
    "print(f\"Top-right corner: ({max_x}, {min_y})\")\n",
    "print(f\"Bottom-left corner: ({min_x}, {max_y})\")\n",
    "print(f\"Bottom-right corner: ({max_x}, {max_y})\")\n"
   ]
  },
  {
   "cell_type": "code",
   "execution_count": 3,
   "metadata": {},
   "outputs": [
    {
     "name": "stdout",
     "output_type": "stream",
     "text": [
      "0.017397177146435655\n"
     ]
    }
   ],
   "source": [
    "def get_angle(corners):\n",
    "    \"\"\"\n",
    "    Calculate the correct rotation angle from corners\n",
    "    \"\"\"\n",
    "    # Get the main edges\n",
    "    edge1 = [corners[1][0] - corners[0][0], corners[1][1] - corners[0][1]]\n",
    "    edge2 = [corners[3][0] - corners[0][0], corners[3][1] - corners[0][1]]\n",
    "    \n",
    "    # Calculate lengths\n",
    "    len1 = np.sqrt(edge1[0]**2 + edge1[1]**2)\n",
    "    len2 = np.sqrt(edge2[0]**2 + edge2[1]**2)\n",
    "    \n",
    "    # Use the longer edge for angle calculation\n",
    "    if len1 > len2:\n",
    "        dx, dy = edge1\n",
    "    else:\n",
    "        dx, dy = edge2\n",
    "    \n",
    "    angle = np.arctan2(dy, dx)\n",
    "    return angle\n",
    "\n",
    "corners = [[-83.08490226226006, 30.123817184960654], [-83.08453685334257, 30.12382354268575], [-83.08453137416528, 30.12358554475479], [-83.08489678220786, 30.123579187086264]]\n",
    "\n",
    "print(get_angle(corners))"
   ]
  },
  {
   "cell_type": "code",
   "execution_count": null,
   "metadata": {},
   "outputs": [],
   "source": []
  }
 ],
 "metadata": {
  "kernelspec": {
   "display_name": "Python 3",
   "language": "python",
   "name": "python3"
  },
  "language_info": {
   "codemirror_mode": {
    "name": "ipython",
    "version": 3
   },
   "file_extension": ".py",
   "mimetype": "text/x-python",
   "name": "python",
   "nbconvert_exporter": "python",
   "pygments_lexer": "ipython3",
   "version": "3.10.11"
  }
 },
 "nbformat": 4,
 "nbformat_minor": 2
}
